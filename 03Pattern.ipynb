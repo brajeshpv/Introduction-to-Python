{
  "nbformat": 4,
  "nbformat_minor": 0,
  "metadata": {
    "colab": {
      "provenance": [],
      "authorship_tag": "ABX9TyO7VW4v+5ovf8nQMY/Crras",
      "include_colab_link": true
    },
    "kernelspec": {
      "name": "python3",
      "display_name": "Python 3"
    },
    "language_info": {
      "name": "python"
    }
  },
  "cells": [
    {
      "cell_type": "markdown",
      "metadata": {
        "id": "view-in-github",
        "colab_type": "text"
      },
      "source": [
        "<a href=\"https://colab.research.google.com/github/brajeshpv/Introduction-to-Python/blob/main/03Pattern.ipynb\" target=\"_parent\"><img src=\"https://colab.research.google.com/assets/colab-badge.svg\" alt=\"Open In Colab\"/></a>"
      ]
    },
    {
      "cell_type": "code",
      "execution_count": 2,
      "metadata": {
        "colab": {
          "base_uri": "https://localhost:8080/"
        },
        "id": "gFTKjoce852Y",
        "outputId": "3897eb93-ef68-4b3a-c2ec-9868c0c16d61"
      },
      "outputs": [
        {
          "output_type": "stream",
          "name": "stdout",
          "text": [
            "Enter the number of rows 5\n",
            "1 \n",
            "\n",
            "1 2 \n",
            "\n",
            "1 2 3 \n",
            "\n",
            "1 2 3 4 \n",
            "\n",
            "1 2 3 4 5 \n",
            "\n"
          ]
        }
      ],
      "source": [
        "rows=int(input(\"Enter the number of rows \"))\n",
        "for i in range(rows):\n",
        "  for j in range(i+1):\n",
        "    print(j+1,end=\" \")\n",
        "  print(\"\\n\")  "
      ]
    },
    {
      "cell_type": "code",
      "source": [
        "rows = int(input(\"Enter number of rows: \"))\n",
        "\n",
        "k = 0\n",
        "\n",
        "for i in range(1, rows+1):\n",
        "    for space in range(1, (rows-i)+1):\n",
        "        print(end=\"  \")\n",
        "   \n",
        "    while k!=(2*i-1):\n",
        "        print(\"* \", end=\"\")\n",
        "        k += 1\n",
        "   \n",
        "    k = 0\n",
        "    print()"
      ],
      "metadata": {
        "colab": {
          "base_uri": "https://localhost:8080/"
        },
        "id": "0-R92jjU9sXe",
        "outputId": "bf36d750-19c3-40f4-b9dd-42e60c27574d"
      },
      "execution_count": 3,
      "outputs": [
        {
          "output_type": "stream",
          "name": "stdout",
          "text": [
            "Enter number of rows: 5\n",
            "        * \n",
            "      * * * \n",
            "    * * * * * \n",
            "  * * * * * * * \n",
            "* * * * * * * * * \n"
          ]
        }
      ]
    }
  ]
}